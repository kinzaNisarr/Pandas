{
  "cells": [
    {
      "cell_type": "markdown",
      "metadata": {
        "id": "5Oihl9U5bRw7"
      },
      "source": [
        "# Implementing the Gradient Descent Algorithm\n",
        "\n",
        "In this lab, we'll implement the basic functions of the Gradient Descent algorithm to find the boundary in a small dataset. First, we'll start with some functions that will help us plot and visualize the data."
      ]
    },
    {
      "cell_type": "code",
      "execution_count": 1,
      "metadata": {
        "id": "OsVLec8EbRxZ"
      },
      "outputs": [],
      "source": [
        "import matplotlib.pyplot as plt\n",
        "import numpy as np\n",
        "import pandas as pd"
      ]
    },
    {
      "cell_type": "markdown",
      "metadata": {
        "id": "YE-3i2RHbRxc"
      },
      "source": [
        "## Reading and plotting the data"
      ]
    },
    {
      "cell_type": "code",
      "execution_count": 2,
      "metadata": {
        "colab": {
          "base_uri": "https://localhost:8080/",
          "height": 430
        },
        "id": "9ErRsZ7ZbRxd",
        "outputId": "fb9e640d-35f1-47f7-81ae-3e0166c89d3d"
      },
      "outputs": [
        {
          "output_type": "display_data",
          "data": {
            "text/plain": [
              "<Figure size 640x480 with 1 Axes>"
            ],
            "image/png": "[encoded data removed]"
          },
          "metadata": {}
        }
      ],
      "source": [
        "data = pd.read_csv('/content/data.csv', header=None)\n",
        "X = data.iloc[:,0]\n",
        "y = data.iloc[:,1]\n",
        "plt.scatter(X,y)\n",
        "plt.show()"
      ]
    },
    {
      "cell_type": "markdown",
      "metadata": {
        "id": "WBBRxDBWbRxf"
      },
      "source": [
        "## Use of the basic functions\n",
        "Here is your turn to shine. Implement the following formulas, as explained in the text.\n",
        "\n",
        "- Output (prediction) formula\n",
        "\n",
        "$$\\hat{y} = w_1 x_1 + w_2 x_2 + b $$\n",
        "\n",
        "- Error function i.e. SSE\n",
        "\n",
        "$$Error(y, \\hat{y}) = \\sum_{i=0}^n (y_i -\\hat{y_i})^2 $$\n",
        "\n",
        "- The function that updates the weights\n",
        "\n",
        "$$ w_i \\longrightarrow w_i + \\alpha (y - \\hat{y}) x_i$$\n",
        "\n",
        "$$ b \\longrightarrow b + \\alpha (y - \\hat{y})$$"
      ]
    },
    {
      "cell_type": "markdown",
      "metadata": {
        "id": "t__pmJN_bRxg"
      },
      "source": [
        "## Training function\n",
        "This function will help us iterate the gradient descent algorithm through all the data, for a number of epochs. It will also plot the data, and some of the boundary lines obtained as we run the algorithm."
      ]
    },
    {
      "cell_type": "code",
      "execution_count": 3,
      "metadata": {
        "id": "jtHBjmvDbRxi"
      },
      "outputs": [],
      "source": [
        "np.random.seed(25)\n",
        "\n",
        "epochs = 100\n",
        "learnrate = 0.01"
      ]
    },
    {
      "cell_type": "markdown",
      "metadata": {
        "id": "YLhvg5SrbRxj"
      },
      "source": [
        "## Time to train the algorithm!\n",
        "When we run the function, we'll obtain the following:\n",
        "- 10 updates with the current training loss and accuracy\n",
        "- A plot of the data and some of the boundary lines obtained. The final one is in black. Notice how the lines get closer and closer to the best fit, as we go through more epochs.\n",
        "- A plot of the error function. Notice how it decreases as we go through more epochs."
      ]
    },
    {
      "cell_type": "code",
      "execution_count": 7,
      "metadata": {
        "colab": {
          "base_uri": "https://localhost:8080/"
        },
        "id": "DM4HkXBMbRxj",
        "outputId": "aba61da7-7462-4c3d-f90e-d70f1e6f6789"
      },
      "outputs": [
        {
          "output_type": "stream",
          "name": "stdout",
          "text": [
            "Epoch 0: Loss = 14.04281413295644\n",
            "Epoch 10: Loss = 1.3653823375894056\n",
            "Epoch 20: Loss = 0.13275607795918537\n",
            "Epoch 30: Loss = 0.01290786891693721\n",
            "Epoch 40: Loss = 0.0012550316530747605\n",
            "Epoch 50: Loss = 0.00012202668468012049\n",
            "Epoch 60: Loss = 1.1864650375581785e-05\n",
            "Epoch 70: Loss = 1.1535995499984206e-06\n",
            "Epoch 80: Loss = 1.1216444476952916e-07\n",
            "Epoch 90: Loss = 1.0905745126657707e-08\n",
            "Trained weights: [1.99999018]\n"
          ]
        }
      ],
      "source": [
        "import numpy as np\n",
        "\n",
        "# Define a simple function to mimic training using gradient descent\n",
        "def train(X, y, epochs, learnrate, verbose=False):\n",
        "    # Ensure X is a 2D array (n_samples, n_features)\n",
        "    if X.ndim == 1:\n",
        "        X = X.reshape(-1, 1)  # Reshape to (n_samples, 1) if X is 1D\n",
        "\n",
        "    # Initialize weights randomly (with the same number of features as X has columns)\n",
        "    weights = np.random.rand(X.shape[1])\n",
        "\n",
        "    # Gradient descent loop\n",
        "    for epoch in range(epochs):\n",
        "        # Compute the predictions\n",
        "        y_pred = np.dot(X, weights)\n",
        "\n",
        "        # Compute the error (difference between actual and predicted values)\n",
        "        error = y_pred - y\n",
        "\n",
        "        # Compute the gradient (based on Mean Squared Error loss)\n",
        "        gradient = np.dot(X.T, error) / X.shape[0]\n",
        "\n",
        "        # Update the weights\n",
        "        weights -= learnrate * gradient\n",
        "\n",
        "        # Optionally print progress\n",
        "        if verbose and epoch % 10 == 0:\n",
        "            loss = np.mean(error**2)\n",
        "            print(f'Epoch {epoch}: Loss = {loss}')\n",
        "\n",
        "    return weights\n",
        "\n",
        "# Call the function to train the model (ensure X and y are correctly defined)\n",
        "# Example data (replace these with your actual X and y)\n",
        "X = np.array([1, 2, 3, 4, 5])  # Example 1D input\n",
        "y = np.array([2, 4, 6, 8, 10])  # Example target values\n",
        "\n",
        "weights = train(X, y, epochs, learnrate, True)\n",
        "print(\"Trained weights:\", weights)\n"
      ]
    },
    {
      "cell_type": "code",
      "execution_count": null,
      "metadata": {
        "id": "MLZI4yAwbRxk"
      },
      "outputs": [],
      "source": []
    },
    {
      "cell_type": "code",
      "execution_count": null,
      "metadata": {
        "id": "sfmD5pUabRxl"
      },
      "outputs": [],
      "source": []
    }
  ],
  "metadata": {
    "kernelspec": {
      "display_name": "Python 3",
      "language": "python",
      "name": "python3"
    },
    "language_info": {
      "codemirror_mode": {
        "name": "ipython",
        "version": 3
      },
      "file_extension": ".py",
      "mimetype": "text/x-python",
      "name": "python",
      "nbconvert_exporter": "python",
      "pygments_lexer": "ipython3",
      "version": "3.7.1"
    },
    "colab": {
      "provenance": []
    }
  },
  "nbformat": 4,
  "nbformat_minor": 0
}