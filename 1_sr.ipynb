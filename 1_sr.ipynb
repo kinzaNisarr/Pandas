{
  "cells": [
    {
      "cell_type": "markdown",
      "metadata": {
        "id": "tLsMZpMuKX4u"
      },
      "source": [
        "# if, elif, else Statements\n",
        "\n",
        "<code>if</code> Statements in Python allows us to tell the computer to perform alternative actions based on a certain set of results.\n",
        "\n",
        "Verbally, we can imagine we are telling the computer:\n",
        "\n",
        "\"Hey if this case happens, perform some action\"\n",
        "\n",
        "We can then expand the idea further with <code>elif</code> and <code>else</code> statements, which allow us to tell the computer:\n",
        "\n",
        "\"Hey if this case happens, perform some action. Else, if another case happens, perform some other action. Else, if *none* of the above cases happened, perform this action.\"\n",
        "\n",
        "Let's go ahead and look at the syntax format for <code>if</code> statements to get a better idea of this:\n",
        "\n",
        "    if case1:\n",
        "        perform action1\n",
        "    elif case2:\n",
        "        perform action2\n",
        "    else:\n",
        "        perform action3"
      ]
    },
    {
      "cell_type": "markdown",
      "metadata": {
        "id": "SUZdIA36KX4-"
      },
      "source": [
        "## First Example\n",
        "\n",
        "Let's see a quick example of this:"
      ]
    },
    {
      "cell_type": "code",
      "execution_count": 1,
      "metadata": {
        "colab": {
          "base_uri": "https://localhost:8080/"
        },
        "id": "ri6Mc7Y7KX4_",
        "outputId": "26c53d8c-c602-40f7-aa75-f953d639d78c"
      },
      "outputs": [
        {
          "output_type": "stream",
          "name": "stdout",
          "text": [
            "It was true!\n"
          ]
        }
      ],
      "source": [
        "if True:\n",
        "    print('It was true!')"
      ]
    },
    {
      "cell_type": "markdown",
      "metadata": {
        "id": "Cho376uXKX5B"
      },
      "source": [
        "Let's add in some else logic:"
      ]
    },
    {
      "cell_type": "code",
      "execution_count": 2,
      "metadata": {
        "colab": {
          "base_uri": "https://localhost:8080/"
        },
        "id": "Y6PBgGQOKX5C",
        "outputId": "e4ca9b50-a6f4-41f6-e881-d06316bba18d"
      },
      "outputs": [
        {
          "output_type": "stream",
          "name": "stdout",
          "text": [
            "x was True!\n"
          ]
        }
      ],
      "source": [
        "x = True\n",
        "\n",
        "if x:\n",
        "    print('x was True!')\n",
        "else:\n",
        "    print('I will be printed in any case where x is not true')\n",
        "    print('Here it is')"
      ]
    },
    {
      "cell_type": "markdown",
      "metadata": {
        "id": "aMLDVVsFKX5D"
      },
      "source": [
        "### Multiple Branches\n",
        "\n",
        "Let's get a fuller picture of how far <code>if</code>, <code>elif</code>, and <code>else</code> can take us!\n",
        "\n",
        "We write this out in a nested structure. Take note of how the <code>if</code>, <code>elif</code>, and <code>else</code> line up in the code. This can help you see what <code>if</code> is related to what <code>elif</code> or <code>else</code> statements.\n",
        "\n",
        "We'll reintroduce a comparison syntax for Python."
      ]
    },
    {
      "cell_type": "code",
      "execution_count": 3,
      "metadata": {
        "colab": {
          "base_uri": "https://localhost:8080/"
        },
        "id": "_c5_5biOKX5D",
        "outputId": "674795a0-b8fe-4047-c545-b871032fb756"
      },
      "outputs": [
        {
          "output_type": "stream",
          "name": "stdout",
          "text": [
            "Welcome to the bank!\n"
          ]
        }
      ],
      "source": [
        "loc = 'Bank'\n",
        "\n",
        "if loc == 'Auto Shop':\n",
        "    print('Welcome to the Auto Shop!')\n",
        "elif loc == 'Bank':\n",
        "    print('Welcome to the bank!')\n",
        "else:\n",
        "    print('Where are you?')"
      ]
    },
    {
      "cell_type": "markdown",
      "metadata": {
        "id": "ERGR9iuyKX5E"
      },
      "source": [
        "Note how the nested <code>if</code> statements are each checked until a True boolean causes the nested code below it to run. You should also note that you can put in as many <code>elif</code> statements as you want before you close off with an <code>else</code>."
      ]
    },
    {
      "cell_type": "markdown",
      "metadata": {
        "id": "LVr6dmYXKX5F"
      },
      "source": [
        "## if-elif-else Exercise\n",
        "Write code to check weather condition with following senarios:\n",
        "\n",
        "    1.) Sunny and Hot (temp is higher than 30)\n",
        "    2.) Sunny and Moderate (temp is between 20 and 30)\n",
        "    3.) Rainy and Cold (temp is less than 20)\n",
        "    4.) Rainy and Very Cold (temp is less than 5)"
      ]
    },
    {
      "cell_type": "code",
      "execution_count": 4,
      "metadata": {
        "colab": {
          "base_uri": "https://localhost:8080/"
        },
        "id": "YkI8kFgSKX5F",
        "outputId": "02dccd91-3bf5-4a78-8661-c69470cc5cfd"
      },
      "outputs": [
        {
          "output_type": "stream",
          "name": "stdout",
          "text": [
            "Sunny and Hot\n"
          ]
        }
      ],
      "source": [
        "# Write your code here\n",
        "temp = 35\n",
        "\n",
        "if temp > 30:\n",
        "    print(\"Sunny and Hot\")\n",
        "\n",
        "\n"
      ]
    },
    {
      "cell_type": "code",
      "source": [
        "temp = 25\n",
        "\n",
        "if 20 <= temp <= 30:\n",
        "    print(\"Sunny and Moderate\")\n"
      ],
      "metadata": {
        "colab": {
          "base_uri": "https://localhost:8080/"
        },
        "id": "ygBOfhN6LB26",
        "outputId": "4cd0a21e-4b53-429b-b316-7929faf87102"
      },
      "execution_count": 6,
      "outputs": [
        {
          "output_type": "stream",
          "name": "stdout",
          "text": [
            "Sunny and Moderate\n"
          ]
        }
      ]
    },
    {
      "cell_type": "code",
      "source": [
        "temp = 15\n",
        "\n",
        "if temp < 20:\n",
        "    print(\"Rainy and Cold\")\n"
      ],
      "metadata": {
        "colab": {
          "base_uri": "https://localhost:8080/"
        },
        "id": "tEcF_L0tLLCk",
        "outputId": "3d280f54-4cb4-43db-af03-75348ddccf98"
      },
      "execution_count": 7,
      "outputs": [
        {
          "output_type": "stream",
          "name": "stdout",
          "text": [
            "Rainy and Cold\n"
          ]
        }
      ]
    },
    {
      "cell_type": "code",
      "source": [
        "temp = 3\n",
        "\n",
        "if temp < 5:\n",
        "    print(\"Rainy and Very Cold\")\n"
      ],
      "metadata": {
        "colab": {
          "base_uri": "https://localhost:8080/"
        },
        "id": "pFRp0gN5LS33",
        "outputId": "1afeb588-f569-4e80-d852-cf03e06107c9"
      },
      "execution_count": 8,
      "outputs": [
        {
          "output_type": "stream",
          "name": "stdout",
          "text": [
            "Rainy and Very Cold\n"
          ]
        }
      ]
    },
    {
      "cell_type": "markdown",
      "metadata": {
        "id": "35sggyKUKX5F"
      },
      "source": [
        "# for Loops\n",
        "\n",
        "A <code>for</code> loop acts as an iterator in Python; it goes through items that are in a *sequence* or any other iterable item. Objects that we've learned about that we can iterate over include strings, lists, tuples, and even built-in iterables for dictionaries, such as keys or values.\n",
        "\n",
        "We've already seen the <code>for</code> statement a little bit in past lectures but now let's formalize our understanding.\n",
        "\n",
        "Here's the general format for a <code>for</code> loop in Python:\n",
        "\n",
        "    for item in object:\n",
        "        statements to do stuff"
      ]
    },
    {
      "cell_type": "markdown",
      "metadata": {
        "id": "FvbCIJRvKX5G"
      },
      "source": [
        "The variable name used for the item is completely up to the coder, so use your best judgment for choosing a name that makes sense and you will be able to understand when revisiting your code. This item name can then be referenced inside your loop, for example if you wanted to use <code>if</code> statements to perform checks.\n",
        "\n",
        "Let's go ahead and work through several example of <code>for</code> loops using a variety of data object types. We'll start simple and build more complexity later on.\n",
        "\n",
        "## Example 1\n",
        "Iterating through a list"
      ]
    },
    {
      "cell_type": "code",
      "execution_count": 9,
      "metadata": {
        "colab": {
          "base_uri": "https://localhost:8080/"
        },
        "id": "yjfRZEwPKX5G",
        "outputId": "abfa8e55-79d0-4630-b87f-2c0e811074ce"
      },
      "outputs": [
        {
          "output_type": "execute_result",
          "data": {
            "text/plain": [
              "[1, 2, 3, 4, 5, 6, 7, 8, 9, 10]"
            ]
          },
          "metadata": {},
          "execution_count": 9
        }
      ],
      "source": [
        "# We'll learn how to automate this sort of list in the next lecture\n",
        "list1 = [1,2,3,4,5,6,7,8,9,10]\n",
        "list1"
      ]
    },
    {
      "cell_type": "code",
      "execution_count": 10,
      "metadata": {
        "colab": {
          "base_uri": "https://localhost:8080/"
        },
        "id": "nH9houyhKX5G",
        "outputId": "f2f4ebc0-52a8-42f0-c00d-d08d5afed69c"
      },
      "outputs": [
        {
          "output_type": "stream",
          "name": "stdout",
          "text": [
            "1\n",
            "2\n",
            "3\n",
            "4\n",
            "5\n",
            "6\n",
            "7\n",
            "8\n",
            "9\n",
            "10\n"
          ]
        }
      ],
      "source": [
        "for num in list1:\n",
        "    print(num)"
      ]
    },
    {
      "cell_type": "markdown",
      "metadata": {
        "id": "pbDeLLA3KX5H"
      },
      "source": [
        "Great! Hopefully this makes sense. Now let's add an <code>if</code> statement to check for even numbers. We'll first introduce a new concept here--the modulo.\n",
        "### Modulo\n",
        "The modulo allows us to get the remainder in a division and uses the % symbol. For example:"
      ]
    },
    {
      "cell_type": "code",
      "execution_count": 11,
      "metadata": {
        "colab": {
          "base_uri": "https://localhost:8080/"
        },
        "id": "rBV08NPCKX5H",
        "outputId": "1600934d-bbb6-48e6-f878-a56f65b3829a"
      },
      "outputs": [
        {
          "output_type": "execute_result",
          "data": {
            "text/plain": [
              "2"
            ]
          },
          "metadata": {},
          "execution_count": 11
        }
      ],
      "source": [
        "17 % 5"
      ]
    },
    {
      "cell_type": "markdown",
      "metadata": {
        "id": "yIsYTGb4KX5H"
      },
      "source": [
        "This makes sense since 17 divided by 5 is 3 remainder 2. Let's see a few more quick examples:"
      ]
    },
    {
      "cell_type": "code",
      "execution_count": 12,
      "metadata": {
        "colab": {
          "base_uri": "https://localhost:8080/"
        },
        "id": "8VKLxHC_KX5H",
        "outputId": "7b1b0beb-364c-4465-e2e1-eb88af48c2a8"
      },
      "outputs": [
        {
          "output_type": "execute_result",
          "data": {
            "text/plain": [
              "1"
            ]
          },
          "metadata": {},
          "execution_count": 12
        }
      ],
      "source": [
        "# 3 Remainder 1\n",
        "10 % 3"
      ]
    },
    {
      "cell_type": "code",
      "execution_count": 13,
      "metadata": {
        "colab": {
          "base_uri": "https://localhost:8080/"
        },
        "id": "rwUtry11KX5H",
        "outputId": "19b19b22-d347-4026-d3b4-229daa790e18"
      },
      "outputs": [
        {
          "output_type": "execute_result",
          "data": {
            "text/plain": [
              "0"
            ]
          },
          "metadata": {},
          "execution_count": 13
        }
      ],
      "source": [
        "# 2 no remainder\n",
        "4 % 2"
      ]
    },
    {
      "cell_type": "markdown",
      "metadata": {
        "id": "Ush7JKQTKX5I"
      },
      "source": [
        "Notice that if a number is fully divisible with no remainder, the result of the modulo call is 0. We can use this to test for even numbers, since if a number modulo 2 is equal to 0, that means it is an even number!\n",
        "\n",
        "Back to the <code>for</code> loops!\n",
        "\n",
        "## Example 2\n",
        "Let's print only the even numbers from that list!"
      ]
    },
    {
      "cell_type": "code",
      "execution_count": 14,
      "metadata": {
        "colab": {
          "base_uri": "https://localhost:8080/"
        },
        "id": "dhaa-zvyKX5I",
        "outputId": "829d26b8-48e0-43c9-8c75-b08e0d90fe4a"
      },
      "outputs": [
        {
          "output_type": "stream",
          "name": "stdout",
          "text": [
            "2\n",
            "4\n",
            "6\n",
            "8\n",
            "10\n"
          ]
        }
      ],
      "source": [
        "for num in list1:\n",
        "    if num % 2 == 0:\n",
        "        print(num)"
      ]
    },
    {
      "cell_type": "markdown",
      "metadata": {
        "id": "ZG98bOeQKX5I"
      },
      "source": [
        "We could have also put an <code>else</code> statement in there:"
      ]
    },
    {
      "cell_type": "code",
      "execution_count": 15,
      "metadata": {
        "colab": {
          "base_uri": "https://localhost:8080/"
        },
        "id": "s3xZ3phIKX5J",
        "outputId": "69d987d6-a919-4918-bc19-9b988076860e"
      },
      "outputs": [
        {
          "output_type": "stream",
          "name": "stdout",
          "text": [
            "Odd number\n",
            "2\n",
            "Odd number\n",
            "4\n",
            "Odd number\n",
            "6\n",
            "Odd number\n",
            "8\n",
            "Odd number\n",
            "10\n"
          ]
        }
      ],
      "source": [
        "for num in list1:\n",
        "    if num % 2 == 0:\n",
        "        print(num)\n",
        "    else:\n",
        "        print('Odd number')"
      ]
    },
    {
      "cell_type": "markdown",
      "metadata": {
        "id": "Fl4Y4XVcKX5J"
      },
      "source": [
        "## Example 3"
      ]
    },
    {
      "cell_type": "code",
      "execution_count": 16,
      "metadata": {
        "colab": {
          "base_uri": "https://localhost:8080/"
        },
        "id": "e0NHkVJsKX5J",
        "outputId": "5e43d077-9edb-4305-b636-8f175fda158d"
      },
      "outputs": [
        {
          "output_type": "stream",
          "name": "stdout",
          "text": [
            "['w', 'o', 'r', 'd']\n"
          ]
        }
      ],
      "source": [
        "list1=['w','o','r','d']\n",
        "print(list1)"
      ]
    },
    {
      "cell_type": "code",
      "execution_count": 17,
      "metadata": {
        "id": "0KKVPvcFKX5J"
      },
      "outputs": [],
      "source": [
        "result=''\n",
        "\n",
        "for elements in list1:\n",
        "    result +=elements"
      ]
    },
    {
      "cell_type": "markdown",
      "metadata": {
        "id": "cEBbfInrKX5K"
      },
      "source": [
        "Please notice here that <code>result +=elements</code> is equivallent to <code>result=result+elements</code>"
      ]
    },
    {
      "cell_type": "code",
      "execution_count": 18,
      "metadata": {
        "colab": {
          "base_uri": "https://localhost:8080/"
        },
        "id": "JAuRAef8KX5K",
        "outputId": "85a25f91-d95d-4787-edf4-26b52605a1d8"
      },
      "outputs": [
        {
          "output_type": "stream",
          "name": "stdout",
          "text": [
            "word\n"
          ]
        }
      ],
      "source": [
        "print(result)"
      ]
    },
    {
      "cell_type": "markdown",
      "metadata": {
        "id": "9oMtyCyJKX5K"
      },
      "source": [
        "## For loop Exercise"
      ]
    },
    {
      "cell_type": "code",
      "execution_count": 19,
      "metadata": {
        "colab": {
          "base_uri": "https://localhost:8080/"
        },
        "id": "RhUd4nedKX5K",
        "outputId": "5340a7d9-2997-4393-e48d-ccdfa23085a2"
      },
      "outputs": [
        {
          "output_type": "stream",
          "name": "stdout",
          "text": [
            "['w', 'o', 'r', 'd']\n"
          ]
        }
      ],
      "source": [
        "#create empty list\n",
        "\n",
        "letters_list = []\n",
        "\n",
        "\n",
        "# Write a for loop to assign each letter of \"result\" to the list\n",
        "for elements in result:\n",
        "    letters_list.append(elements)\n",
        "\n",
        "# Print the list to see the result\n",
        "print(letters_list)\n",
        "\n"
      ]
    },
    {
      "cell_type": "markdown",
      "metadata": {
        "id": "ttKYKzSMKX5N"
      },
      "source": [
        "# while Loops\n",
        "\n",
        "The <code>while</code> statement in Python is one of most general ways to perform iteration. A <code>while</code> statement will repeatedly execute a single statement or group of statements as long as the condition is true. The reason it is called a 'loop' is because the code statements are looped through over and over again until the condition is no longer met.\n",
        "\n",
        "The general format of a while loop is:\n",
        "\n",
        "    while test:\n",
        "        code statements\n",
        "    else:\n",
        "        final code statements\n",
        "\n",
        "Let’s look at a few simple <code>while</code> loops in action."
      ]
    },
    {
      "cell_type": "markdown",
      "metadata": {
        "id": "cvBJbqK8KX5P"
      },
      "source": [
        "Notice how many times the print statements occurred and how the <code>while</code> loop kept going until the True condition was met, which occurred once x==10. It's important to note that once this occurred the code stopped. Also see how we could add an <code>else</code> statement:"
      ]
    },
    {
      "cell_type": "code",
      "execution_count": 20,
      "metadata": {
        "colab": {
          "base_uri": "https://localhost:8080/"
        },
        "id": "0hiddk34KX5Q",
        "outputId": "247cab2e-e638-4b17-fe74-de7a0a3b2e28"
      },
      "outputs": [
        {
          "output_type": "stream",
          "name": "stdout",
          "text": [
            "x is currently:  0\n",
            " x is still less than 10, adding 1 to x\n",
            "x is currently:  1\n",
            " x is still less than 10, adding 1 to x\n",
            "x is currently:  2\n",
            " x is still less than 10, adding 1 to x\n",
            "x is currently:  3\n",
            " x is still less than 10, adding 1 to x\n",
            "x is currently:  4\n",
            " x is still less than 10, adding 1 to x\n",
            "x is currently:  5\n",
            " x is still less than 10, adding 1 to x\n",
            "x is currently:  6\n",
            " x is still less than 10, adding 1 to x\n",
            "x is currently:  7\n",
            " x is still less than 10, adding 1 to x\n",
            "x is currently:  8\n",
            " x is still less than 10, adding 1 to x\n",
            "x is currently:  9\n",
            " x is still less than 10, adding 1 to x\n",
            "All Done!\n"
          ]
        }
      ],
      "source": [
        "x = 0\n",
        "\n",
        "while x < 10:\n",
        "    print('x is currently: ',x)\n",
        "    print(' x is still less than 10, adding 1 to x')\n",
        "    x+=1\n",
        "\n",
        "else:\n",
        "    print('All Done!')"
      ]
    },
    {
      "cell_type": "markdown",
      "metadata": {
        "id": "MrWN85DlKX5Q"
      },
      "source": [
        "# break, continue, pass\n",
        "\n",
        "We can use <code>break</code>, <code>continue</code>, and <code>pass</code> statements in our loops to add additional functionality for various cases. The three statements are defined by:\n",
        "\n",
        "    break: Breaks out of the current closest enclosing loop.\n",
        "    continue: Goes to the top of the closest enclosing loop.\n",
        "    pass: Does nothing at all.\n",
        "    \n",
        "    \n",
        "Thinking about <code>break</code> and <code>continue</code> statements, the general format of the <code>while</code> loop looks like this:\n",
        "\n",
        "    while test:\n",
        "        code statement\n",
        "        if test:\n",
        "            break\n",
        "        if test:\n",
        "            continue\n",
        "    else:\n",
        "\n",
        "<code>break</code> and <code>continue</code> statements can appear anywhere inside the loop’s body, but we will usually put them further nested in conjunction with an <code>if</code> statement to perform an action based on some condition.\n",
        "\n",
        "Let's go ahead and look at some examples!"
      ]
    },
    {
      "cell_type": "code",
      "execution_count": 21,
      "metadata": {
        "colab": {
          "base_uri": "https://localhost:8080/"
        },
        "id": "5x6FowiQKX5Q",
        "outputId": "a1ecd456-aeff-455e-ca03-5b6c2bcea3bd"
      },
      "outputs": [
        {
          "output_type": "stream",
          "name": "stdout",
          "text": [
            "x is currently:  0\n",
            " x is still less than 10, adding 1 to x\n",
            "continuing...\n",
            "x is currently:  1\n",
            " x is still less than 10, adding 1 to x\n",
            "continuing...\n",
            "x is currently:  2\n",
            " x is still less than 10, adding 1 to x\n",
            "x==3\n",
            "x is currently:  3\n",
            " x is still less than 10, adding 1 to x\n",
            "continuing...\n",
            "x is currently:  4\n",
            " x is still less than 10, adding 1 to x\n",
            "continuing...\n",
            "x is currently:  5\n",
            " x is still less than 10, adding 1 to x\n",
            "continuing...\n",
            "x is currently:  6\n",
            " x is still less than 10, adding 1 to x\n",
            "continuing...\n",
            "x is currently:  7\n",
            " x is still less than 10, adding 1 to x\n",
            "continuing...\n",
            "x is currently:  8\n",
            " x is still less than 10, adding 1 to x\n",
            "continuing...\n",
            "x is currently:  9\n",
            " x is still less than 10, adding 1 to x\n",
            "continuing...\n"
          ]
        }
      ],
      "source": [
        "x = 0\n",
        "\n",
        "while x < 10:\n",
        "    print('x is currently: ',x)\n",
        "    print(' x is still less than 10, adding 1 to x')\n",
        "    x+=1\n",
        "    if x==3:\n",
        "        print('x==3')\n",
        "    else:\n",
        "        print('continuing...')\n",
        "        continue #pass\n",
        "        print('is this executed?')"
      ]
    },
    {
      "cell_type": "markdown",
      "metadata": {
        "id": "ivngwsAaKX5R"
      },
      "source": [
        "Note how we have a printed statement when x==3, and a continue being printed out as we continue through the outer while loop. Let's put in a break once x ==3 and see if the result makes sense:"
      ]
    },
    {
      "cell_type": "code",
      "execution_count": 23,
      "metadata": {
        "colab": {
          "base_uri": "https://localhost:8080/"
        },
        "id": "eQmbNcYZKX5R",
        "outputId": "200d20ab-91bd-4ab5-ddfb-581e9fd00ddf"
      },
      "outputs": [
        {
          "output_type": "stream",
          "name": "stdout",
          "text": [
            "x is currently:  0\n",
            " x is still less than 10, adding 1 to x\n",
            "continuing...\n",
            "x is currently:  1\n",
            " x is still less than 10, adding 1 to x\n",
            "continuing...\n",
            "x is currently:  2\n",
            " x is still less than 10, adding 1 to x\n",
            "Breaking because x==3\n"
          ]
        }
      ],
      "source": [
        "x = 0\n",
        "\n",
        "while x < 10:\n",
        "    print('x is currently: ',x)\n",
        "    print(' x is still less than 10, adding 1 to x')\n",
        "    x+=1\n",
        "    if x==3:\n",
        "        print('Breaking because x==3')\n",
        "        break\n",
        "    else:\n",
        "        print('continuing...')\n",
        "        continue"
      ]
    },
    {
      "cell_type": "markdown",
      "metadata": {
        "id": "gISr7CapKX5R"
      },
      "source": [
        "Note how the other <code>else</code> statement wasn't reached and continuing was never printed!\n",
        "\n",
        "After these brief but simple examples, you should feel comfortable using <code>while</code> statements in your code.\n",
        "\n",
        "**A word of caution however! It is possible to create an infinitely running loop with <code>while</code> statements.**"
      ]
    },
    {
      "cell_type": "markdown",
      "metadata": {
        "id": "wc8Jcx-jKX5S"
      },
      "source": [
        "## While Loop Exercise\n",
        "Write code to check if input number is greater than, less than or equal to 50. Loop should be continuous and command of **exit** should end the loop"
      ]
    },
    {
      "cell_type": "markdown",
      "metadata": {
        "id": "iwWdC6xAKX5S"
      },
      "source": [
        "Hint: you need to used input() fucntion and cast the value to 'int' for conditions but don't cast when 'exit'.\n",
        "\n",
        "The code for taking input and casting is as following:\n",
        "    \n",
        "<code>x=input(\"Enter a your value: \")</code>"
      ]
    },
    {
      "cell_type": "code",
      "execution_count": 24,
      "metadata": {
        "colab": {
          "base_uri": "https://localhost:8080/"
        },
        "id": "Kgh0yDUOKX5S",
        "outputId": "c676f7e1-ae3e-47ad-ca58-a29b7ef81b02"
      },
      "outputs": [
        {
          "output_type": "stream",
          "name": "stdout",
          "text": [
            "Enter your value (or type 'exit' to end): 59\n",
            "59 is greater than 50.\n",
            "Enter your value (or type 'exit' to end): exit\n",
            "Exiting the loop.\n"
          ]
        }
      ],
      "source": [
        "#write code here\n",
        "while True:\n",
        "    x = input(\"Enter your value (or type 'exit' to end): \")\n",
        "\n",
        "    # Check if the user wants to exit\n",
        "    if x == 'exit':\n",
        "        print(\"Exiting the loop.\")\n",
        "        break  # Exit the loop\n",
        "\n",
        "    # Cast the input to an integer and check the conditions\n",
        "    try:\n",
        "        x = int(x)  # Try to cast the input to an integer\n",
        "        if x > 50:\n",
        "            print(f\"{x} is greater than 50.\")\n",
        "        elif x < 50:\n",
        "            print(f\"{x} is less than 50.\")\n",
        "        else:\n",
        "            print(f\"{x} is equal to 50.\")\n",
        "    except ValueError:\n",
        "        print(\"Please enter a valid number or type 'exit' to end.\")\n"
      ]
    },
    {
      "cell_type": "markdown",
      "metadata": {
        "id": "5CrpP9OJKX5S"
      },
      "source": [
        "# Methods\n",
        "\n",
        "Methods are essentially functions for the objects. Methods perform specific actions on an object and can also take arguments, just like a function. This lecture will serve as just a brief introduction to methods and get you thinking about overall design methods that we will touch back upon when we reach OOP in the course.\n",
        "\n",
        "Methods are in the form:\n",
        "\n",
        "    object.method(arg1,arg2,etc...)\n",
        "    \n",
        "You'll later see that we can think of methods as having an argument 'self' referring to the object itself. You can't see this argument but we will be using it later on in the course during the OOP lectures.\n",
        "\n",
        "Let's take a quick look at what an example of the various methods a list has:"
      ]
    },
    {
      "cell_type": "code",
      "execution_count": 25,
      "metadata": {
        "id": "FLDtkS9NKX5T"
      },
      "outputs": [],
      "source": [
        "# Create a simple list\n",
        "lst = [1,2,3,4,5]"
      ]
    },
    {
      "cell_type": "markdown",
      "metadata": {
        "id": "TkV81QIsKX5T"
      },
      "source": [
        "Fortunately, with iPython and the Jupyter Notebook we can quickly see all the possible methods using the tab key.\n",
        "The common methods for a list are:\n",
        "\n",
        "* append\n",
        "* count\n",
        "* extend\n",
        "* insert\n",
        "* pop\n",
        "* remove\n",
        "* reverse\n",
        "* sort\n",
        "\n",
        "Let's try out a few of them:"
      ]
    },
    {
      "cell_type": "code",
      "execution_count": 26,
      "metadata": {
        "id": "V4qqxoOBKX5T"
      },
      "outputs": [],
      "source": [
        "lst.append(6)"
      ]
    },
    {
      "cell_type": "code",
      "execution_count": 27,
      "metadata": {
        "colab": {
          "base_uri": "https://localhost:8080/"
        },
        "id": "aK8WjpMqKX5T",
        "outputId": "2d3d1e98-d74a-4a4f-deb2-2e27bd0f0960"
      },
      "outputs": [
        {
          "output_type": "execute_result",
          "data": {
            "text/plain": [
              "[1, 2, 3, 4, 5, 6]"
            ]
          },
          "metadata": {},
          "execution_count": 27
        }
      ],
      "source": [
        "lst"
      ]
    },
    {
      "cell_type": "code",
      "execution_count": 28,
      "metadata": {
        "id": "LQwYiCzQKX5U"
      },
      "outputs": [],
      "source": [
        "lst.clear()"
      ]
    },
    {
      "cell_type": "code",
      "execution_count": 29,
      "metadata": {
        "colab": {
          "base_uri": "https://localhost:8080/"
        },
        "id": "WxEPqZpuKX5U",
        "outputId": "edcd6327-8542-4b05-9b90-2b709047edbf"
      },
      "outputs": [
        {
          "output_type": "execute_result",
          "data": {
            "text/plain": [
              "0"
            ]
          },
          "metadata": {},
          "execution_count": 29
        }
      ],
      "source": [
        "# Check how many times 2 shows up in the list\n",
        "lst.count(2)"
      ]
    },
    {
      "cell_type": "markdown",
      "metadata": {
        "id": "S1JP3NSxKX5U"
      },
      "source": [
        "You can always use Tab in the Jupyter Notebook to get list of all methods you use Shift+Tab in the Jupyter Notebook to get help of all methods."
      ]
    },
    {
      "cell_type": "markdown",
      "metadata": {
        "id": "SUMOr8fjKX5U"
      },
      "source": [
        "The methods for a string are:\n",
        "\n",
        "* lower\n",
        "* upper\n",
        "* replace\n",
        "* split\n",
        "* count\n",
        "* join\n",
        "* find\n",
        "* endswith"
      ]
    },
    {
      "cell_type": "markdown",
      "metadata": {
        "id": "Pp9jpsNWKX5V"
      },
      "source": [
        "### Home Task"
      ]
    },
    {
      "cell_type": "markdown",
      "metadata": {
        "id": "b3R5kRGEKX5V"
      },
      "source": [
        "Make a string having two words, starting with same letters and separated by a space like **'Abrar Ahmed'** and perform the following tasks using methods"
      ]
    },
    {
      "cell_type": "code",
      "execution_count": 30,
      "metadata": {
        "colab": {
          "base_uri": "https://localhost:8080/"
        },
        "id": "ss9ZjTCnKX5V",
        "outputId": "f1a96f81-d97b-40b3-92eb-f0d4be7f909f"
      },
      "outputs": [
        {
          "output_type": "stream",
          "name": "stdout",
          "text": [
            "Uppercase: ABRAR AHMED\n",
            "Lowercase: abrar ahmed\n",
            "Starts with 'A': True\n",
            "Position of space: 5\n",
            "Split into two words: ['Abrar', 'Ahmed']\n",
            "With hyphen: Abrar-Ahmed\n",
            "Occurrences of 'A': 3\n"
          ]
        }
      ],
      "source": [
        "#declare a string\n",
        "\n",
        "name = \"Abrar Ahmed\"\n",
        "\n",
        "\n",
        "# 1. Convert the string to all uppercase\n",
        "uppercase_name = name.upper()\n",
        "print(\"Uppercase:\", uppercase_name)\n",
        "\n",
        "# 2. Convert the string to all lowercase\n",
        "lowercase_name = name.lower()\n",
        "print(\"Lowercase:\", lowercase_name)\n",
        "\n",
        "# 3. Check if the string starts with 'A'\n",
        "starts_with_A = name.startswith('A')\n",
        "print(\"Starts with 'A':\", starts_with_A)\n",
        "\n",
        "# 4. Find the position of the space\n",
        "space_position = name.find(' ')\n",
        "print(\"Position of space:\", space_position)\n",
        "\n",
        "# 5. Split the string into two words\n",
        "split_name = name.split(' ')\n",
        "print(\"Split into two words:\", split_name)\n",
        "\n",
        "# 6. Replace the space with a hyphen\n",
        "hyphen_name = name.replace(' ', '-')\n",
        "print(\"With hyphen:\", hyphen_name)\n",
        "\n",
        "# 7. Count the occurrences of the letter 'A' (case-insensitive)\n",
        "count_A = name.lower().count('a')\n",
        "print(\"Occurrences of 'A':\", count_A)\n",
        "\n"
      ]
    },
    {
      "cell_type": "markdown",
      "metadata": {
        "id": "mhH9mzsaKX5W"
      },
      "source": [
        "Hint: s.split('Letter to split with', maxsplit=no. of splits)"
      ]
    },
    {
      "cell_type": "markdown",
      "metadata": {
        "id": "eZie4CvrKX5X"
      },
      "source": [
        "# Functions\n",
        "\n",
        "## Introduction to Functions\n",
        "\n",
        "**So what is a function?**\n",
        "\n",
        "Formally, a function is a useful device that groups together a set of statements so they can be run more than once. They can also let us specify parameters that can serve as inputs to the functions.\n",
        "\n",
        "On a more fundamental level, functions allow us to not have to repeatedly write the same code again and again.\n",
        "\n",
        "Functions will be one of most basic levels of reusing code in Python, and it will also allow us to start thinking of program design."
      ]
    },
    {
      "cell_type": "markdown",
      "metadata": {
        "id": "U7mDZK7dKX5X"
      },
      "source": [
        "## def Statements\n",
        "\n",
        "Let's see how to build out a function's syntax in Python. It has the following form:"
      ]
    },
    {
      "cell_type": "code",
      "execution_count": 31,
      "metadata": {
        "id": "tdkBaqqcKX5X"
      },
      "outputs": [],
      "source": [
        "def name_of_function(arg1,arg2):\n",
        "    '''\n",
        "    This is where the function's Document String (docstring) goes\n",
        "    '''"
      ]
    },
    {
      "cell_type": "code",
      "execution_count": 32,
      "metadata": {
        "id": "BcyQ8yUrKX5X"
      },
      "outputs": [],
      "source": [
        "name_of_function(1,2)"
      ]
    },
    {
      "cell_type": "markdown",
      "metadata": {
        "id": "6VI9sMcJKX5X"
      },
      "source": [
        "We begin with <code>def</code> then a space followed by the name of the function. Try to keep names relevant, for example len() is a good name for a length() function. Also be careful with names, you wouldn't want to call a function the same name as a [built-in function in Python](https://docs.python.org/2/library/functions.html) (such as len).\n",
        "\n",
        "Next come a pair of parentheses with a number of arguments separated by a comma. These arguments are the inputs for your function. You'll be able to use these inputs in your function and reference them. After this you put a colon.\n",
        "\n",
        "The important step is that you must indent to begin the code inside your function correctly."
      ]
    },
    {
      "cell_type": "markdown",
      "metadata": {
        "id": "-Aod8Eu8KX5Y"
      },
      "source": [
        "### Example 1: A simple print 'hello' function"
      ]
    },
    {
      "cell_type": "code",
      "execution_count": 33,
      "metadata": {
        "id": "R9n4LjTCKX5Y"
      },
      "outputs": [],
      "source": [
        "def say_hello():\n",
        "    print('hello')"
      ]
    },
    {
      "cell_type": "markdown",
      "metadata": {
        "id": "Eyel7Tq5KX5Z"
      },
      "source": [
        "**Call the Function**"
      ]
    },
    {
      "cell_type": "code",
      "execution_count": 34,
      "metadata": {
        "colab": {
          "base_uri": "https://localhost:8080/"
        },
        "id": "cJ1A7_i-KX5Z",
        "outputId": "7c295861-6afb-406b-b5d4-fc5756d06b05"
      },
      "outputs": [
        {
          "output_type": "stream",
          "name": "stdout",
          "text": [
            "hello\n"
          ]
        }
      ],
      "source": [
        "say_hello()"
      ]
    },
    {
      "cell_type": "markdown",
      "metadata": {
        "id": "DhDgG3GbKX5Z"
      },
      "source": [
        "### Example 2: A simple greeting function\n",
        "Let's write a function that greets people with their name."
      ]
    },
    {
      "cell_type": "code",
      "execution_count": 35,
      "metadata": {
        "id": "i03mzUMzKX5a"
      },
      "outputs": [],
      "source": [
        "def greeting(name):\n",
        "    print('Hello',(name))"
      ]
    },
    {
      "cell_type": "code",
      "execution_count": 36,
      "metadata": {
        "colab": {
          "base_uri": "https://localhost:8080/"
        },
        "id": "Fwkyqv_fKX5a",
        "outputId": "d297d59e-a291-4581-f7d5-0922a609494b"
      },
      "outputs": [
        {
          "output_type": "stream",
          "name": "stdout",
          "text": [
            "Hello Jose\n"
          ]
        }
      ],
      "source": [
        "greeting('Jose')"
      ]
    },
    {
      "cell_type": "markdown",
      "metadata": {
        "id": "WwFldpRpKX5a"
      },
      "source": [
        "## Using return\n",
        "Let's see some example that use a <code>return</code> statement. <code>return</code> allows a function to *return* a result that can then be stored as a variable, or used in whatever manner a user wants.\n",
        "\n",
        "### Example 3: Addition function"
      ]
    },
    {
      "cell_type": "code",
      "execution_count": 37,
      "metadata": {
        "id": "0XwyF_t7KX5a"
      },
      "outputs": [],
      "source": [
        "def add_num(num1,num2):\n",
        "    return num1+num2"
      ]
    },
    {
      "cell_type": "code",
      "execution_count": 38,
      "metadata": {
        "id": "bg73vzSYKX5b"
      },
      "outputs": [],
      "source": [
        "# Can save as variable due to return\n",
        "result = add_num(4,5)"
      ]
    },
    {
      "cell_type": "markdown",
      "metadata": {
        "id": "TdZqHek-KX5b"
      },
      "source": [
        "### Example 4: Function with default arguments"
      ]
    },
    {
      "cell_type": "code",
      "execution_count": 39,
      "metadata": {
        "id": "AT90TlOjKX5b"
      },
      "outputs": [],
      "source": [
        "def my_power(num,n=2):\n",
        "    '''\n",
        "    Method to get power of number\n",
        "    '''\n",
        "    return num**n"
      ]
    },
    {
      "cell_type": "code",
      "execution_count": 40,
      "metadata": {
        "colab": {
          "base_uri": "https://localhost:8080/"
        },
        "id": "6zidBUTyKX5c",
        "outputId": "92c26c1d-95a7-492c-ee4f-8a3e78213ba6"
      },
      "outputs": [
        {
          "output_type": "execute_result",
          "data": {
            "text/plain": [
              "27"
            ]
          },
          "metadata": {},
          "execution_count": 40
        }
      ],
      "source": [
        "my_power(3,3)"
      ]
    },
    {
      "cell_type": "markdown",
      "metadata": {
        "id": "DEsaDczcKX5c"
      },
      "source": [
        "# Functions exercise\n",
        "Write a function to check if a number is even or odd."
      ]
    },
    {
      "cell_type": "code",
      "source": [
        "\n",
        "def check_even_odd(number):\n",
        "    if number % 2 == 0:\n",
        "        print(f\"{number} is even.\")\n",
        "    else:\n",
        "        print(f\"{number} is odd.\")\n",
        "\n",
        "\n",
        "num = int(input(\"Enter a number: \"))\n",
        "check_even_odd(num)\n"
      ],
      "metadata": {
        "colab": {
          "base_uri": "https://localhost:8080/"
        },
        "id": "iQSo9g1zZwV4",
        "outputId": "b2f7a93f-1d8f-4de4-ed57-8c15818a5e9c"
      },
      "execution_count": 44,
      "outputs": [
        {
          "output_type": "stream",
          "name": "stdout",
          "text": [
            "Enter a number: 6\n",
            "6 is even.\n"
          ]
        }
      ]
    },
    {
      "cell_type": "markdown",
      "metadata": {
        "id": "KkhfjkMkKX5e"
      },
      "source": [
        "# Built-in Functions in Python\n",
        "We will discuss some built in functions provided to us by Python. They are as following:\n",
        "* Filter\n",
        "* Map\n",
        "* Lambda\n",
        "* Range\n",
        "* Min, Max\n",
        "* Enumerate\n",
        "\n",
        "Let's have a look at the following examples and see how they work"
      ]
    },
    {
      "cell_type": "markdown",
      "metadata": {
        "id": "a594-a3tKX5e"
      },
      "source": [
        "## map function\n",
        "\n",
        "The **map** function allows you to \"map\" a function to an iterable object. That is to say you can quickly call the same function to every item in an iterable, such as a list. For example:"
      ]
    },
    {
      "cell_type": "code",
      "execution_count": 49,
      "metadata": {
        "id": "KnY32su3KX5f"
      },
      "outputs": [],
      "source": [
        "def square(num):\n",
        "    return num**2\n"
      ]
    },
    {
      "cell_type": "code",
      "execution_count": 46,
      "metadata": {
        "id": "0aDc7q_nKX5f"
      },
      "outputs": [],
      "source": [
        "my_nums = [1,2,3,4,5]"
      ]
    },
    {
      "cell_type": "code",
      "execution_count": 47,
      "metadata": {
        "colab": {
          "base_uri": "https://localhost:8080/"
        },
        "id": "tf9eDy6hKX5f",
        "outputId": "3d46f085-32a6-4264-8e3b-9bbd0c5693f3"
      },
      "outputs": [
        {
          "output_type": "execute_result",
          "data": {
            "text/plain": [
              "[1, 4, 9, 16, 25]"
            ]
          },
          "metadata": {},
          "execution_count": 47
        }
      ],
      "source": [
        "new_num=[]\n",
        "for i in my_nums:\n",
        "    new_num.append(square(i))\n",
        "new_num"
      ]
    },
    {
      "cell_type": "markdown",
      "metadata": {
        "id": "67Zn1eAzKX5g"
      },
      "source": [
        "**Using the map() function:**"
      ]
    },
    {
      "cell_type": "code",
      "execution_count": 50,
      "metadata": {
        "colab": {
          "base_uri": "https://localhost:8080/"
        },
        "id": "Ti2fKWRBKX5h",
        "outputId": "5f76df44-17c5-4172-fdc1-d6438093a4f8"
      },
      "outputs": [
        {
          "output_type": "execute_result",
          "data": {
            "text/plain": [
              "<map at 0x7975c9ed8400>"
            ]
          },
          "metadata": {},
          "execution_count": 50
        }
      ],
      "source": [
        "map(square,my_nums)"
      ]
    },
    {
      "cell_type": "code",
      "execution_count": 51,
      "metadata": {
        "colab": {
          "base_uri": "https://localhost:8080/"
        },
        "id": "jkbrbACFKX5h",
        "outputId": "6dc87298-f78e-4232-f93b-a6837241c6a6"
      },
      "outputs": [
        {
          "output_type": "execute_result",
          "data": {
            "text/plain": [
              "[1, 4, 9, 16, 25]"
            ]
          },
          "metadata": {},
          "execution_count": 51
        }
      ],
      "source": [
        "#printing results\n",
        "list(map(square,my_nums))"
      ]
    },
    {
      "cell_type": "markdown",
      "metadata": {
        "id": "q29TA-R2KX5i"
      },
      "source": [
        "## filter function\n",
        "\n",
        "The filter function returns an iterator yielding those items of iterable for which function(item)\n",
        "is true. Meaning you need to filter by a function that returns either True or False. Then passing that into filter (along with your iterable) and you will get back only the results that would return True when passed to the function."
      ]
    },
    {
      "cell_type": "code",
      "execution_count": 52,
      "metadata": {
        "id": "4n_iG7V2KX5i"
      },
      "outputs": [],
      "source": [
        "def check_even(num):\n",
        "    return num % 2 == 0"
      ]
    },
    {
      "cell_type": "code",
      "execution_count": 53,
      "metadata": {
        "id": "7tetwIyxKX5i"
      },
      "outputs": [],
      "source": [
        "nums = [0,1,2,3,4,5,6,7,8,9,10]"
      ]
    },
    {
      "cell_type": "code",
      "execution_count": 54,
      "metadata": {
        "colab": {
          "base_uri": "https://localhost:8080/"
        },
        "id": "u6M7mYLeKX5i",
        "outputId": "cf7fb127-f4cf-410b-b6bd-06415f1a1049"
      },
      "outputs": [
        {
          "output_type": "execute_result",
          "data": {
            "text/plain": [
              "<filter at 0x7975c9edb250>"
            ]
          },
          "metadata": {},
          "execution_count": 54
        }
      ],
      "source": [
        "filter(check_even,nums)"
      ]
    },
    {
      "cell_type": "code",
      "execution_count": 56,
      "metadata": {
        "colab": {
          "base_uri": "https://localhost:8080/"
        },
        "id": "s0ku577gKX5j",
        "outputId": "b8a152c3-f434-430e-ccae-94f4ca335e59"
      },
      "outputs": [
        {
          "output_type": "execute_result",
          "data": {
            "text/plain": [
              "[0, 2, 4, 6, 8, 10]"
            ]
          },
          "metadata": {},
          "execution_count": 56
        }
      ],
      "source": [
        "list(filter(check_even,nums))"
      ]
    },
    {
      "cell_type": "markdown",
      "metadata": {
        "id": "gPt0qTA4KX5j"
      },
      "source": [
        "## lambda expression\n",
        "\n",
        "lambda expressions allow us to create \"anonymous\" functions. This basically means we can quickly make ad-hoc functions without needing to properly define a function using def.\n",
        "\n",
        "**lambda's body is a single expression, not a block of statements.**\n"
      ]
    },
    {
      "cell_type": "markdown",
      "metadata": {
        "id": "Q0uKiBulKX5j"
      },
      "source": [
        "Consider the following function:"
      ]
    },
    {
      "cell_type": "code",
      "execution_count": 61,
      "metadata": {
        "id": "z0X7zWIGKX5k"
      },
      "outputs": [],
      "source": [
        "def square(num):\n",
        "    result = num**2\n",
        "    return result"
      ]
    },
    {
      "cell_type": "code",
      "execution_count": 58,
      "metadata": {
        "colab": {
          "base_uri": "https://localhost:8080/"
        },
        "id": "d3opWlLlKX5k",
        "outputId": "2f1fabfa-96f3-4972-823a-3148fd402b75"
      },
      "outputs": [
        {
          "output_type": "execute_result",
          "data": {
            "text/plain": [
              "4"
            ]
          },
          "metadata": {},
          "execution_count": 58
        }
      ],
      "source": [
        "square(2)"
      ]
    },
    {
      "cell_type": "markdown",
      "metadata": {
        "id": "Y4gQovyTKX5k"
      },
      "source": [
        "We could actually even write this all on one line."
      ]
    },
    {
      "cell_type": "code",
      "execution_count": 62,
      "metadata": {
        "colab": {
          "base_uri": "https://localhost:8080/"
        },
        "id": "kdkokectKX5k",
        "outputId": "ca7a9b8a-dd0e-4873-87bf-66f36df7c152"
      },
      "outputs": [
        {
          "output_type": "execute_result",
          "data": {
            "text/plain": [
              "<function __main__.<lambda>(num)>"
            ]
          },
          "metadata": {},
          "execution_count": 62
        }
      ],
      "source": [
        "lambda num: num ** 2"
      ]
    },
    {
      "cell_type": "code",
      "execution_count": 64,
      "metadata": {
        "id": "lyZvl95JKX5l"
      },
      "outputs": [],
      "source": [
        "# for displaying results\n",
        "square = lambda num: num **2"
      ]
    },
    {
      "cell_type": "markdown",
      "metadata": {
        "id": "0yFVBd-BKX5l"
      },
      "source": [
        "Let's repeat some of the examples from above with a lambda expression"
      ]
    },
    {
      "cell_type": "code",
      "execution_count": 65,
      "metadata": {
        "colab": {
          "base_uri": "https://localhost:8080/"
        },
        "id": "elu3Yyh4KX5l",
        "outputId": "cc75dc75-dda6-4617-ab2c-e4c09ee87bd1"
      },
      "outputs": [
        {
          "output_type": "execute_result",
          "data": {
            "text/plain": [
              "[1, 4, 9, 16, 25]"
            ]
          },
          "metadata": {},
          "execution_count": 65
        }
      ],
      "source": [
        "list(map(lambda num: num ** 2, my_nums))"
      ]
    },
    {
      "cell_type": "markdown",
      "metadata": {
        "id": "nIwFIrEsKX5l"
      },
      "source": [
        "### Task\n",
        "\n",
        "Repeat the **filter()** function example with the **lambda()** functions"
      ]
    },
    {
      "cell_type": "code",
      "execution_count": 66,
      "metadata": {
        "colab": {
          "base_uri": "https://localhost:8080/"
        },
        "id": "gKauZRXXKX5l",
        "outputId": "7fa0e30e-1635-4b6e-d0c0-4681cab929c8"
      },
      "outputs": [
        {
          "output_type": "stream",
          "name": "stdout",
          "text": [
            "Even numbers: [2, 4, 6, 8, 10]\n"
          ]
        }
      ],
      "source": [
        "# wrtite the code here\n",
        "# List of numbers\n",
        "numbers = [1, 2, 3, 4, 5, 6, 7, 8, 9, 10]\n",
        "\n",
        "# Using filter() with lambda to filter even numbers\n",
        "even_numbers = list(filter(lambda x: x % 2 == 0, numbers))\n",
        "\n",
        "# Print the filtered list of even numbers\n",
        "print(\"Even numbers:\", even_numbers)\n"
      ]
    },
    {
      "cell_type": "markdown",
      "metadata": {
        "id": "oFgMLyEQKX5m"
      },
      "source": [
        "## range\n",
        "\n",
        "The range function allows you to quickly *generate* a list of integers, this comes in handy a lot, so take note of how to use it! There are 3 parameters you can pass, a start, a stop, and a step size. Let's see some examples:"
      ]
    },
    {
      "cell_type": "code",
      "execution_count": 67,
      "metadata": {
        "colab": {
          "base_uri": "https://localhost:8080/"
        },
        "id": "Xa62YVgTKX5m",
        "outputId": "a3e05ec4-323f-4a9d-ed1a-c250a2c2874f"
      },
      "outputs": [
        {
          "output_type": "execute_result",
          "data": {
            "text/plain": [
              "range(0, 11)"
            ]
          },
          "metadata": {},
          "execution_count": 67
        }
      ],
      "source": [
        "range(0,11)"
      ]
    },
    {
      "cell_type": "markdown",
      "metadata": {
        "id": "PU2Jq3JlKX5m"
      },
      "source": [
        "Note that this is a **generator** function, so to actually get a list out of it, we need to cast it to a list with **list()**. What is a generator? Its a special type of function that will generate information and not need to save it to memory."
      ]
    },
    {
      "cell_type": "code",
      "execution_count": 68,
      "metadata": {
        "colab": {
          "base_uri": "https://localhost:8080/"
        },
        "id": "r8vxTh3ZKX5m",
        "outputId": "5494adb6-bbca-47f7-ee2b-d28b9d8f7de0"
      },
      "outputs": [
        {
          "output_type": "execute_result",
          "data": {
            "text/plain": [
              "[0, 1, 2, 3, 4, 5, 6, 7, 8, 9, 10]"
            ]
          },
          "metadata": {},
          "execution_count": 68
        }
      ],
      "source": [
        "list(range(0,11))"
      ]
    },
    {
      "cell_type": "code",
      "execution_count": 69,
      "metadata": {
        "colab": {
          "base_uri": "https://localhost:8080/"
        },
        "id": "1bFci1iCKX5m",
        "outputId": "661dfaa2-d25e-4568-9ad4-afb2a305a23e"
      },
      "outputs": [
        {
          "output_type": "execute_result",
          "data": {
            "text/plain": [
              "[0, 2, 4, 6, 8, 10]"
            ]
          },
          "metadata": {},
          "execution_count": 69
        }
      ],
      "source": [
        "list(range(0,11,2))"
      ]
    },
    {
      "cell_type": "markdown",
      "metadata": {
        "id": "oCUG5RqiKX5m"
      },
      "source": [
        "## enumerate\n",
        "\n",
        "enumerate is a very useful function to use with for loops. Let's imagine the following situation:"
      ]
    },
    {
      "cell_type": "code",
      "execution_count": 70,
      "metadata": {
        "colab": {
          "base_uri": "https://localhost:8080/"
        },
        "id": "ZevK2xbVKX5n",
        "outputId": "822182ad-5d19-471e-8bcb-c9bf0d950597"
      },
      "outputs": [
        {
          "output_type": "stream",
          "name": "stdout",
          "text": [
            "At index 0 the letter is a\n",
            "At index 1 the letter is b\n",
            "At index 2 the letter is c\n",
            "At index 3 the letter is d\n",
            "At index 4 the letter is e\n"
          ]
        }
      ],
      "source": [
        "index_count = 0\n",
        "\n",
        "for letter in 'abcde':\n",
        "    print(\"At index \" + str(index_count) +\" the letter is \" + str(letter))\n",
        "    index_count += 1"
      ]
    },
    {
      "cell_type": "markdown",
      "metadata": {
        "id": "b2IiSmrxKX5n"
      },
      "source": [
        "Keeping track of how many loops you've gone through is so common, that enumerate was created so you don't need to worry about creating and updating this index_count or loop_count variable"
      ]
    },
    {
      "cell_type": "code",
      "execution_count": 71,
      "metadata": {
        "colab": {
          "base_uri": "https://localhost:8080/"
        },
        "id": "LEnu8pzBKX5n",
        "outputId": "b5bd761a-6674-4887-e85d-c0362c59cc03"
      },
      "outputs": [
        {
          "output_type": "stream",
          "name": "stdout",
          "text": [
            "At index 0 the letter is a\n",
            "At index 1 the letter is b\n",
            "At index 2 the letter is c\n",
            "At index 3 the letter is d\n",
            "At index 4 the letter is e\n"
          ]
        }
      ],
      "source": [
        "# Notice the tuple unpacking!\n",
        "\n",
        "for i,letter in enumerate('abcde'):\n",
        "    print(\"At index \" + str(i) +\" the letter is \" + str(letter))"
      ]
    },
    {
      "cell_type": "markdown",
      "metadata": {
        "id": "YLpEJd85KX5n"
      },
      "source": [
        "## min and max\n",
        "\n",
        "Quickly check the minimum or maximum of a list with these functions."
      ]
    },
    {
      "cell_type": "code",
      "execution_count": 72,
      "metadata": {
        "id": "s0F97YbfKX5o"
      },
      "outputs": [],
      "source": [
        "mylist = [10,20,30,40,100]"
      ]
    },
    {
      "cell_type": "code",
      "execution_count": 73,
      "metadata": {
        "colab": {
          "base_uri": "https://localhost:8080/"
        },
        "id": "CHEHUgiSKX5o",
        "outputId": "abf4778d-53c8-452c-9700-3ae908f0f12a"
      },
      "outputs": [
        {
          "output_type": "execute_result",
          "data": {
            "text/plain": [
              "10"
            ]
          },
          "metadata": {},
          "execution_count": 73
        }
      ],
      "source": [
        "min(mylist)"
      ]
    },
    {
      "cell_type": "code",
      "execution_count": 75,
      "metadata": {
        "colab": {
          "base_uri": "https://localhost:8080/"
        },
        "id": "GN_JLlAkKX5o",
        "outputId": "b53cb474-4c7a-484c-913c-9b8c46e97e0f"
      },
      "outputs": [
        {
          "output_type": "execute_result",
          "data": {
            "text/plain": [
              "100"
            ]
          },
          "metadata": {},
          "execution_count": 75
        }
      ],
      "source": [
        "max(mylist)"
      ]
    },
    {
      "cell_type": "markdown",
      "metadata": {
        "id": "UHprNONfKX5o"
      },
      "source": [
        "## random\n",
        "\n",
        "Python comes with a built in random library. There are a lot of functions included in this random library, so we will only show you two useful functions for now."
      ]
    },
    {
      "cell_type": "code",
      "execution_count": 76,
      "metadata": {
        "id": "eLUBhX1EKX5o"
      },
      "outputs": [],
      "source": [
        "from random import shuffle"
      ]
    },
    {
      "cell_type": "code",
      "execution_count": 77,
      "metadata": {
        "id": "v3dleZKHKX5p"
      },
      "outputs": [],
      "source": [
        "shuffle(mylist)"
      ]
    },
    {
      "cell_type": "code",
      "execution_count": 78,
      "metadata": {
        "colab": {
          "base_uri": "https://localhost:8080/"
        },
        "id": "SMXCxmmwKX5p",
        "outputId": "9950c389-0fbf-470c-8d2b-ca56babbd3e8"
      },
      "outputs": [
        {
          "output_type": "execute_result",
          "data": {
            "text/plain": [
              "[40, 20, 30, 100, 10]"
            ]
          },
          "metadata": {},
          "execution_count": 78
        }
      ],
      "source": [
        "mylist"
      ]
    },
    {
      "cell_type": "code",
      "execution_count": 79,
      "metadata": {
        "id": "lwlGAkVtKX5p"
      },
      "outputs": [],
      "source": [
        "from random import randint"
      ]
    },
    {
      "cell_type": "code",
      "execution_count": 80,
      "metadata": {
        "colab": {
          "base_uri": "https://localhost:8080/"
        },
        "id": "NZ8kIfwAKX5p",
        "outputId": "e3eb3b4a-8da3-4caa-e49b-81ff9ee899a2"
      },
      "outputs": [
        {
          "output_type": "execute_result",
          "data": {
            "text/plain": [
              "37"
            ]
          },
          "metadata": {},
          "execution_count": 80
        }
      ],
      "source": [
        "randint(0,100)"
      ]
    },
    {
      "cell_type": "markdown",
      "metadata": {
        "id": "eoO3Lk53KX5q"
      },
      "source": [
        "## input\n",
        "\n",
        "This function is used in python to take input from user."
      ]
    },
    {
      "cell_type": "code",
      "execution_count": 81,
      "metadata": {
        "colab": {
          "base_uri": "https://localhost:8080/"
        },
        "id": "Zaog8gNQKX5q",
        "outputId": "3a34d8c3-46a8-4626-a5a4-ea0712a63391"
      },
      "outputs": [
        {
          "name": "stdout",
          "output_type": "stream",
          "text": [
            "Enter Something into this box: fg\n"
          ]
        }
      ],
      "source": [
        "a=input('Enter Something into this box: ')"
      ]
    }
  ],
  "metadata": {
    "kernelspec": {
      "display_name": "Python 3",
      "language": "python",
      "name": "python3"
    },
    "language_info": {
      "codemirror_mode": {
        "name": "ipython",
        "version": 3
      },
      "file_extension": ".py",
      "mimetype": "text/x-python",
      "name": "python",
      "nbconvert_exporter": "python",
      "pygments_lexer": "ipython3",
      "version": "3.7.1"
    },
    "colab": {
      "provenance": []
    }
  },
  "nbformat": 4,
  "nbformat_minor": 0
}
